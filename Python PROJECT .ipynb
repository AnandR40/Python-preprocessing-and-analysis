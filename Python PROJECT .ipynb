{
 "cells": [
  {
   "cell_type": "code",
   "execution_count": 5,
   "id": "e106f43c-e7ed-4c12-b3db-aadee1b8f0e2",
   "metadata": {},
   "outputs": [],
   "source": [
    "import pandas as pd\n",
    "import numpy as np\n",
    "import matplotlib.pyplot as plt\n",
    "import seaborn as sns"
   ]
  },
  {
   "cell_type": "code",
   "execution_count": 10,
   "id": "55089e93-428b-4f12-a117-3cae0afca74b",
   "metadata": {},
   "outputs": [],
   "source": [
    "file_path = r\"C:\\Users\\anand\\Downloads\\myexcel.xlsx\""
   ]
  },
  {
   "cell_type": "code",
   "execution_count": 12,
   "id": "44ed6785-1d14-4733-8176-63f5b0703e8f",
   "metadata": {},
   "outputs": [],
   "source": [
    "df =pd.read_excel(file_path)"
   ]
  },
  {
   "cell_type": "code",
   "execution_count": 14,
   "id": "e553545a-1c39-4992-b130-29d06061f059",
   "metadata": {},
   "outputs": [
    {
     "name": "stdout",
     "output_type": "stream",
     "text": [
      "              Name            Team  Number Position  Age               Height  \\\n",
      "0    Avery Bradley  Boston Celtics       0       PG   25  2023-02-06 00:00:00   \n",
      "1      Jae Crowder  Boston Celtics      99       SF   25  2023-06-06 00:00:00   \n",
      "2     John Holland  Boston Celtics      30       SG   27  2023-05-06 00:00:00   \n",
      "3      R.J. Hunter  Boston Celtics      28       SG   22  2023-05-06 00:00:00   \n",
      "4    Jonas Jerebko  Boston Celtics       8       PF   29  2023-10-06 00:00:00   \n",
      "..             ...             ...     ...      ...  ...                  ...   \n",
      "453   Shelvin Mack       Utah Jazz       8       PG   26  2023-03-06 00:00:00   \n",
      "454      Raul Neto       Utah Jazz      25       PG   24  2023-01-06 00:00:00   \n",
      "455   Tibor Pleiss       Utah Jazz      21        C   26  2023-03-07 00:00:00   \n",
      "456    Jeff Withey       Utah Jazz      24        C   26                  7-0   \n",
      "457       Priyanka       Utah Jazz      34        C   25  2023-03-07 00:00:00   \n",
      "\n",
      "     Weight            College     Salary  \n",
      "0       180              Texas  7730337.0  \n",
      "1       235          Marquette  6796117.0  \n",
      "2       205  Boston University        NaN  \n",
      "3       185      Georgia State  1148640.0  \n",
      "4       231                NaN  5000000.0  \n",
      "..      ...                ...        ...  \n",
      "453     203             Butler  2433333.0  \n",
      "454     179                NaN   900000.0  \n",
      "455     256                NaN  2900000.0  \n",
      "456     231             Kansas   947276.0  \n",
      "457     231             Kansas   947276.0  \n",
      "\n",
      "[458 rows x 9 columns]\n"
     ]
    }
   ],
   "source": [
    "print(df)"
   ]
  },
  {
   "cell_type": "code",
   "execution_count": 16,
   "id": "189f0be4-a85d-4167-8862-7223c0fb05ac",
   "metadata": {},
   "outputs": [],
   "source": [
    "# data processing"
   ]
  },
  {
   "cell_type": "code",
   "execution_count": 18,
   "id": "9ac13420-7b1a-4301-bbb8-05092a65c4cd",
   "metadata": {},
   "outputs": [
    {
     "data": {
      "text/plain": [
       "Name         0\n",
       "Team         0\n",
       "Number       0\n",
       "Position     0\n",
       "Age          0\n",
       "Height       0\n",
       "Weight       0\n",
       "College     84\n",
       "Salary      11\n",
       "dtype: int64"
      ]
     },
     "execution_count": 18,
     "metadata": {},
     "output_type": "execute_result"
    }
   ],
   "source": [
    "df.isnull().sum()"
   ]
  },
  {
   "cell_type": "code",
   "execution_count": 24,
   "id": "85a636f6-16b2-4b6a-83f7-a4b03c88d876",
   "metadata": {},
   "outputs": [],
   "source": [
    "df['College'] =df['College'].fillna('unknown')"
   ]
  },
  {
   "cell_type": "code",
   "execution_count": 26,
   "id": "ac509003-26c0-4640-8732-1663cf1bead1",
   "metadata": {},
   "outputs": [
    {
     "data": {
      "text/plain": [
       "Name         0\n",
       "Team         0\n",
       "Number       0\n",
       "Position     0\n",
       "Age          0\n",
       "Height       0\n",
       "Weight       0\n",
       "College      0\n",
       "Salary      11\n",
       "dtype: int64"
      ]
     },
     "execution_count": 26,
     "metadata": {},
     "output_type": "execute_result"
    }
   ],
   "source": [
    "df.isnull().sum()"
   ]
  },
  {
   "cell_type": "code",
   "execution_count": 28,
   "id": "a6e987c0-13a6-408f-be14-1a30f024573c",
   "metadata": {},
   "outputs": [],
   "source": [
    "median_salary = df['Salary'].median()"
   ]
  },
  {
   "cell_type": "code",
   "execution_count": 30,
   "id": "fefeed32-cecf-49f8-9518-afee068d050b",
   "metadata": {},
   "outputs": [],
   "source": [
    "df['Salary'] = df['Salary'].fillna(median_salary)"
   ]
  },
  {
   "cell_type": "code",
   "execution_count": 32,
   "id": "8ab11d80-53f8-4de8-b7ba-1a4e706dbea1",
   "metadata": {},
   "outputs": [
    {
     "data": {
      "text/plain": [
       "Name        0\n",
       "Team        0\n",
       "Number      0\n",
       "Position    0\n",
       "Age         0\n",
       "Height      0\n",
       "Weight      0\n",
       "College     0\n",
       "Salary      0\n",
       "dtype: int64"
      ]
     },
     "execution_count": 32,
     "metadata": {},
     "output_type": "execute_result"
    }
   ],
   "source": [
    "df.isnull().sum()"
   ]
  },
  {
   "cell_type": "code",
   "execution_count": 34,
   "id": "1f6afc32-6550-4649-9d63-2e71e6fa162b",
   "metadata": {},
   "outputs": [
    {
     "data": {
      "text/plain": [
       "0"
      ]
     },
     "execution_count": 34,
     "metadata": {},
     "output_type": "execute_result"
    }
   ],
   "source": [
    "df.duplicated().sum()"
   ]
  },
  {
   "cell_type": "code",
   "execution_count": 36,
   "id": "bf61d6a2-f591-4a9c-a6aa-35562f946b53",
   "metadata": {},
   "outputs": [
    {
     "data": {
      "text/plain": [
       "Name         object\n",
       "Team         object\n",
       "Number        int64\n",
       "Position     object\n",
       "Age           int64\n",
       "Height       object\n",
       "Weight        int64\n",
       "College      object\n",
       "Salary      float64\n",
       "dtype: object"
      ]
     },
     "execution_count": 36,
     "metadata": {},
     "output_type": "execute_result"
    }
   ],
   "source": [
    "df.dtypes"
   ]
  },
  {
   "cell_type": "code",
   "execution_count": 38,
   "id": "12172501-48f8-4bea-b6cb-14a2cb503b00",
   "metadata": {},
   "outputs": [],
   "source": [
    "# 1"
   ]
  },
  {
   "cell_type": "code",
   "execution_count": 40,
   "id": "1f63bba9-e0d8-4ade-bb79-50816fcd9eac",
   "metadata": {},
   "outputs": [],
   "source": [
    "team_counts = df['Team'].value_counts()\n",
    "team_percentage = team_counts / len(df) * 100"
   ]
  },
  {
   "cell_type": "code",
   "execution_count": 42,
   "id": "d250edbc-ba95-49f9-9e7f-b723c18410d1",
   "metadata": {},
   "outputs": [
    {
     "name": "stdout",
     "output_type": "stream",
     "text": [
      "Team\n",
      "New Orleans Pelicans      4.148472\n",
      "Memphis Grizzlies         3.930131\n",
      "Utah Jazz                 3.493450\n",
      "New York Knicks           3.493450\n",
      "Milwaukee Bucks           3.493450\n",
      "Brooklyn Nets             3.275109\n",
      "Portland Trail Blazers    3.275109\n",
      "Oklahoma City Thunder     3.275109\n",
      "Denver Nuggets            3.275109\n",
      "Washington Wizards        3.275109\n",
      "Miami Heat                3.275109\n",
      "Charlotte Hornets         3.275109\n",
      "Atlanta Hawks             3.275109\n",
      "San Antonio Spurs         3.275109\n",
      "Houston Rockets           3.275109\n",
      "Boston Celtics            3.275109\n",
      "Indiana Pacers            3.275109\n",
      "Detroit Pistons           3.275109\n",
      "Cleveland Cavaliers       3.275109\n",
      "Chicago Bulls             3.275109\n",
      "Sacramento Kings          3.275109\n",
      "Phoenix Suns              3.275109\n",
      "Los Angeles Lakers        3.275109\n",
      "Los Angeles Clippers      3.275109\n",
      "Golden State Warriors     3.275109\n",
      "Toronto Raptors           3.275109\n",
      "Philadelphia 76ers        3.275109\n",
      "Dallas Mavericks          3.275109\n",
      "Orlando Magic             3.056769\n",
      "Minnesota Timberwolves    3.056769\n",
      "Name: count, dtype: float64\n"
     ]
    }
   ],
   "source": [
    "print(team_percentage)"
   ]
  },
  {
   "cell_type": "code",
   "execution_count": 44,
   "id": "11ee8f24-30a4-4d50-bc50-d11648ff44af",
   "metadata": {},
   "outputs": [],
   "source": [
    "# 2"
   ]
  },
  {
   "cell_type": "code",
   "execution_count": 48,
   "id": "d01e9c64-3555-4b94-a7d3-32ee82e1639f",
   "metadata": {},
   "outputs": [],
   "source": [
    "positions = df['Position'].unique()\n",
    "positions_groups = df.groupby('Position')"
   ]
  },
  {
   "cell_type": "code",
   "execution_count": 54,
   "id": "f44ba9c8-bee8-4abd-b25c-4e9d65426fa1",
   "metadata": {},
   "outputs": [
    {
     "name": "stdout",
     "output_type": "stream",
     "text": [
      "<pandas.core.groupby.generic.DataFrameGroupBy object at 0x00000258B5A6BFE0>\n"
     ]
    }
   ],
   "source": [
    "print(positions_groups)"
   ]
  },
  {
   "cell_type": "code",
   "execution_count": 56,
   "id": "fc32a61a-d0b0-41d0-a519-fd97a809b18a",
   "metadata": {},
   "outputs": [],
   "source": [
    "# 3"
   ]
  },
  {
   "cell_type": "code",
   "execution_count": 58,
   "id": "3e6e6d4c-e3f3-40dd-8068-1763fae00d33",
   "metadata": {},
   "outputs": [],
   "source": [
    "age_bins = [20,30,40,50,60]\n",
    "age_groups = pd.cut(df['Age'], bins=age_bins)\n",
    "predominant_age_group = age_groups.value_counts().idxmax()"
   ]
  },
  {
   "cell_type": "code",
   "execution_count": 60,
   "id": "822ced0a-b91e-46ed-91be-1198d9dc77db",
   "metadata": {},
   "outputs": [
    {
     "name": "stdout",
     "output_type": "stream",
     "text": [
      "(20, 30]\n"
     ]
    }
   ],
   "source": [
    "print(predominant_age_group)"
   ]
  },
  {
   "cell_type": "code",
   "execution_count": 62,
   "id": "4167b207-d474-415a-bd9b-89ce948bf85c",
   "metadata": {},
   "outputs": [],
   "source": [
    "# 4"
   ]
  },
  {
   "cell_type": "code",
   "execution_count": 64,
   "id": "d37f2ddb-2318-44f7-9e44-35cdc2d3ba44",
   "metadata": {},
   "outputs": [],
   "source": [
    "team_salary = df.groupby('Team')['Salary'].sum()\n",
    "position_salary = df.groupby('Position')['Salary'].sum()\n",
    "highest_salary_team = team_salary.idxmax()\n",
    "highest_salary_position = position_salary.idxmax()"
   ]
  },
  {
   "cell_type": "code",
   "execution_count": 66,
   "id": "9e2723bf-111c-4826-bdbf-c216ed69e696",
   "metadata": {},
   "outputs": [
    {
     "name": "stdout",
     "output_type": "stream",
     "text": [
      "C\n"
     ]
    }
   ],
   "source": [
    "print(highest_salary_position)"
   ]
  },
  {
   "cell_type": "code",
   "execution_count": 68,
   "id": "f6edd402-9068-4420-a134-2e6c47f362a8",
   "metadata": {},
   "outputs": [],
   "source": [
    "# 5"
   ]
  },
  {
   "cell_type": "code",
   "execution_count": 72,
   "id": "71b8f366-5e49-419f-9716-798866c9c237",
   "metadata": {},
   "outputs": [
    {
     "data": {
      "image/png": "[encoded data removed]",
      "text/plain": [
       "<Figure size 640x480 with 1 Axes>"
      ]
     },
     "metadata": {},
     "output_type": "display_data"
    }
   ],
   "source": [
    "correlation = df['Age'].corr(df['Salary'])\n",
    "plt.scatter(df['Age'], df['Salary'])\n",
    "plt.xlabel('Age')\n",
    "plt.ylabel('Salary')\n",
    "plt.title(f'Correlation: {correlation:.2f}')\n",
    "plt.show()"
   ]
  },
  {
   "cell_type": "code",
   "execution_count": null,
   "id": "a05481e3-0a30-40b4-be42-8bdbedebe610",
   "metadata": {},
   "outputs": [],
   "source": []
  }
 ],
 "metadata": {
  "kernelspec": {
   "display_name": "Python 3 (ipykernel)",
   "language": "python",
   "name": "python3"
  },
  "language_info": {
   "codemirror_mode": {
    "name": "ipython",
    "version": 3
   },
   "file_extension": ".py",
   "mimetype": "text/x-python",
   "name": "python",
   "nbconvert_exporter": "python",
   "pygments_lexer": "ipython3",
   "version": "3.12.7"
  }
 },
 "nbformat": 4,
 "nbformat_minor": 5
}
